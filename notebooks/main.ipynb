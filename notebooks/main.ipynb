{
 "cells": [
  {
   "cell_type": "code",
   "execution_count": 56,
   "id": "9c68e2c5-ff67-4cf5-85f2-8f8444ceab69",
   "metadata": {},
   "outputs": [],
   "source": [
    "import pandas as pd"
   ]
  },
  {
   "cell_type": "code",
   "execution_count": 57,
   "id": "954f6ab3-33fe-4493-ae6c-7e250379cbd2",
   "metadata": {},
   "outputs": [],
   "source": [
    "# Define the column names for each dataset\n",
    "movie_titles_columns = ['movieID', 'movie_title', 'movie_year', 'IMDB_rating', 'IMDB_votes', 'genres']\n",
    "movie_characters_columns = ['characterID', 'character_name', 'movieID', 'movie_title', 'gender', 'position']\n",
    "movie_lines_columns = ['lineID', 'characterID', 'movieID', 'character_name', 'utterance']\n",
    "movie_conversations_columns = ['characterID_1', 'characterID_2', 'movieID', 'utterance_list']\n",
    "\n",
    "# Load the datasets into pandas dataframes\n",
    "movie_titles_df = pd.read_table('../data/movie_titles_metadata.tsv', header=None, names=movie_titles_columns, encoding='ISO-8859-2')\n",
    "movie_conversations_df = pd.read_table('../data/movie_conversations.tsv', header=None, names=movie_conversations_columns, encoding='ISO-8859-2')"
   ]
  },
  {
   "cell_type": "code",
   "execution_count": 58,
   "id": "ddded279-0c6c-46de-b469-8b5daad2f7f6",
   "metadata": {},
   "outputs": [],
   "source": [
    "movie_titles_df = movie_titles_df.dropna(subset=['genres'])"
   ]
  },
  {
   "cell_type": "code",
   "execution_count": 59,
   "id": "63f1cc9d-17dd-4142-ad7b-5694a7f5de5f",
   "metadata": {},
   "outputs": [
    {
     "data": {
      "text/plain": [
       "\"['comedy' 'romance']\""
      ]
     },
     "execution_count": 59,
     "metadata": {},
     "output_type": "execute_result"
    }
   ],
   "source": [
    "movie_titles_df.iloc[0].genres"
   ]
  },
  {
   "cell_type": "code",
   "execution_count": 60,
   "id": "f3550f10-00d5-47a9-bff6-95d2fbdd0a26",
   "metadata": {},
   "outputs": [],
   "source": [
    "movie_characters_df = pd.read_csv('../data/movie_characters_metadata.tsv', sep='\\t', header=None, names=movie_characters_columns, encoding='ISO-8859-2', on_bad_lines='skip')\n",
    "movie_lines_df = pd.read_table('../data/movie_lines.tsv', header=None, names=movie_lines_columns, encoding='ISO-8859-2', on_bad_lines='skip')"
   ]
  },
  {
   "cell_type": "code",
   "execution_count": 61,
   "id": "31bbe794-dc28-43e8-9e98-9bef1941d15c",
   "metadata": {},
   "outputs": [],
   "source": [
    "# Merge the necessary tables\n",
    "merged_df = pd.merge(movie_lines_df, movie_characters_df, on=['characterID', 'movieID'], how='left')\n",
    "merged_df = pd.merge(merged_df, movie_titles_df[['movieID', 'movie_title', 'genres']], on='movieID', how='left')\n",
    "\n",
    "# Group the data by conversation and aggregate the dialogue and speakers\n",
    "grouped_df = merged_df.groupby(['characterID', 'movieID', 'movie_title_y', 'genres'])[['utterance', 'character_name_x']].agg(list)\n",
    "\n",
    "# Reset the index and rename the columns\n",
    "grouped_df = grouped_df.reset_index()\n",
    "grouped_df.rename(columns={'utterance': 'dialogue', 'character_name_x': 'speakers', 'movie_title_y': 'movie_title'}, inplace=True)"
   ]
  },
  {
   "cell_type": "code",
   "execution_count": 62,
   "id": "385e9296-6309-4701-ba5c-19de4a054af7",
   "metadata": {},
   "outputs": [
    {
     "data": {
      "text/html": [
       "<div>\n",
       "<style scoped>\n",
       "    .dataframe tbody tr th:only-of-type {\n",
       "        vertical-align: middle;\n",
       "    }\n",
       "\n",
       "    .dataframe tbody tr th {\n",
       "        vertical-align: top;\n",
       "    }\n",
       "\n",
       "    .dataframe thead th {\n",
       "        text-align: right;\n",
       "    }\n",
       "</style>\n",
       "<table border=\"1\" class=\"dataframe\">\n",
       "  <thead>\n",
       "    <tr style=\"text-align: right;\">\n",
       "      <th></th>\n",
       "      <th>characterID</th>\n",
       "      <th>movieID</th>\n",
       "      <th>movie_title</th>\n",
       "      <th>genres</th>\n",
       "      <th>dialogue</th>\n",
       "      <th>speakers</th>\n",
       "    </tr>\n",
       "  </thead>\n",
       "  <tbody>\n",
       "    <tr>\n",
       "      <th>0</th>\n",
       "      <td>u0</td>\n",
       "      <td>m0</td>\n",
       "      <td>10 things i hate about you</td>\n",
       "      <td>['comedy' 'romance']</td>\n",
       "      <td>[They do not!, I hope so., Let's go., Okay -- ...</td>\n",
       "      <td>[BIANCA, BIANCA, BIANCA, BIANCA, BIANCA, BIANC...</td>\n",
       "    </tr>\n",
       "    <tr>\n",
       "      <th>1</th>\n",
       "      <td>u1</td>\n",
       "      <td>m0</td>\n",
       "      <td>10 things i hate about you</td>\n",
       "      <td>['comedy' 'romance']</td>\n",
       "      <td>[Just sent 'em through., Never, Didn't have yo...</td>\n",
       "      <td>[BRUCE, BRUCE, BRUCE]</td>\n",
       "    </tr>\n",
       "    <tr>\n",
       "      <th>2</th>\n",
       "      <td>u10</td>\n",
       "      <td>m0</td>\n",
       "      <td>10 things i hate about you</td>\n",
       "      <td>['comedy' 'romance']</td>\n",
       "      <td>[Absolutely not., Your daughters went to the p...</td>\n",
       "      <td>[SHARON, SHARON, SHARON, SHARON, SHARON, SHARO...</td>\n",
       "    </tr>\n",
       "    <tr>\n",
       "      <th>3</th>\n",
       "      <td>u100</td>\n",
       "      <td>m6</td>\n",
       "      <td>8mm</td>\n",
       "      <td>['crime' 'mystery' 'thriller']</td>\n",
       "      <td>[She died in her sleep three days ago.  It was...</td>\n",
       "      <td>[AMY, AMY, AMY, AMY, AMY, AMY, AMY, AMY, AMY, ...</td>\n",
       "    </tr>\n",
       "    <tr>\n",
       "      <th>4</th>\n",
       "      <td>u1000</td>\n",
       "      <td>m65</td>\n",
       "      <td>from dusk till dawn</td>\n",
       "      <td>['action' 'crime' 'horror' 'thriller']</td>\n",
       "      <td>[Yeah and I'm gonna be right back at it tomorr...</td>\n",
       "      <td>[MCGRAW, MCGRAW, MCGRAW, MCGRAW, MCGRAW, MCGRA...</td>\n",
       "    </tr>\n",
       "    <tr>\n",
       "      <th>...</th>\n",
       "      <td>...</td>\n",
       "      <td>...</td>\n",
       "      <td>...</td>\n",
       "      <td>...</td>\n",
       "      <td>...</td>\n",
       "      <td>...</td>\n",
       "    </tr>\n",
       "    <tr>\n",
       "      <th>8744</th>\n",
       "      <td>u995</td>\n",
       "      <td>m65</td>\n",
       "      <td>from dusk till dawn</td>\n",
       "      <td>['action' 'crime' 'horror' 'thriller']</td>\n",
       "      <td>[Open the door. I'm coming aboard., You said i...</td>\n",
       "      <td>[BORDER GUARD, BORDER GUARD, BORDER GUARD, BOR...</td>\n",
       "    </tr>\n",
       "    <tr>\n",
       "      <th>8745</th>\n",
       "      <td>u996</td>\n",
       "      <td>m65</td>\n",
       "      <td>from dusk till dawn</td>\n",
       "      <td>['action' 'crime' 'horror' 'thriller']</td>\n",
       "      <td>[Vamanos!, Yeah follow us., It's hardly been u...</td>\n",
       "      <td>[CARLOS, CARLOS, CARLOS, CARLOS, CARLOS, CARLO...</td>\n",
       "    </tr>\n",
       "    <tr>\n",
       "      <th>8746</th>\n",
       "      <td>u997</td>\n",
       "      <td>m65</td>\n",
       "      <td>from dusk till dawn</td>\n",
       "      <td>['action' 'crime' 'horror' 'thriller']</td>\n",
       "      <td>[I meant me my son and my daughter., Oh that's...</td>\n",
       "      <td>[JACOB, JACOB, JACOB, JACOB, JACOB, JACOB, JAC...</td>\n",
       "    </tr>\n",
       "    <tr>\n",
       "      <th>8747</th>\n",
       "      <td>u998</td>\n",
       "      <td>m65</td>\n",
       "      <td>from dusk till dawn</td>\n",
       "      <td>['action' 'crime' 'horror' 'thriller']</td>\n",
       "      <td>[Everybody goes home!, I'm going for 'em!, I s...</td>\n",
       "      <td>[KATE, KATE, KATE, KATE, KATE, KATE, KATE, KAT...</td>\n",
       "    </tr>\n",
       "    <tr>\n",
       "      <th>8748</th>\n",
       "      <td>u999</td>\n",
       "      <td>m65</td>\n",
       "      <td>from dusk till dawn</td>\n",
       "      <td>['action' 'crime' 'horror' 'thriller']</td>\n",
       "      <td>[Is it safe to assume that because the death c...</td>\n",
       "      <td>[KELLY HOUGE, KELLY HOUGE, KELLY HOUGE, KELLY ...</td>\n",
       "    </tr>\n",
       "  </tbody>\n",
       "</table>\n",
       "<p>8749 rows × 6 columns</p>\n",
       "</div>"
      ],
      "text/plain": [
       "     characterID movieID                 movie_title  \\\n",
       "0             u0      m0  10 things i hate about you   \n",
       "1             u1      m0  10 things i hate about you   \n",
       "2            u10      m0  10 things i hate about you   \n",
       "3           u100      m6                         8mm   \n",
       "4          u1000     m65         from dusk till dawn   \n",
       "...          ...     ...                         ...   \n",
       "8744        u995     m65         from dusk till dawn   \n",
       "8745        u996     m65         from dusk till dawn   \n",
       "8746        u997     m65         from dusk till dawn   \n",
       "8747        u998     m65         from dusk till dawn   \n",
       "8748        u999     m65         from dusk till dawn   \n",
       "\n",
       "                                      genres  \\\n",
       "0                       ['comedy' 'romance']   \n",
       "1                       ['comedy' 'romance']   \n",
       "2                       ['comedy' 'romance']   \n",
       "3             ['crime' 'mystery' 'thriller']   \n",
       "4     ['action' 'crime' 'horror' 'thriller']   \n",
       "...                                      ...   \n",
       "8744  ['action' 'crime' 'horror' 'thriller']   \n",
       "8745  ['action' 'crime' 'horror' 'thriller']   \n",
       "8746  ['action' 'crime' 'horror' 'thriller']   \n",
       "8747  ['action' 'crime' 'horror' 'thriller']   \n",
       "8748  ['action' 'crime' 'horror' 'thriller']   \n",
       "\n",
       "                                               dialogue  \\\n",
       "0     [They do not!, I hope so., Let's go., Okay -- ...   \n",
       "1     [Just sent 'em through., Never, Didn't have yo...   \n",
       "2     [Absolutely not., Your daughters went to the p...   \n",
       "3     [She died in her sleep three days ago.  It was...   \n",
       "4     [Yeah and I'm gonna be right back at it tomorr...   \n",
       "...                                                 ...   \n",
       "8744  [Open the door. I'm coming aboard., You said i...   \n",
       "8745  [Vamanos!, Yeah follow us., It's hardly been u...   \n",
       "8746  [I meant me my son and my daughter., Oh that's...   \n",
       "8747  [Everybody goes home!, I'm going for 'em!, I s...   \n",
       "8748  [Is it safe to assume that because the death c...   \n",
       "\n",
       "                                               speakers  \n",
       "0     [BIANCA, BIANCA, BIANCA, BIANCA, BIANCA, BIANC...  \n",
       "1                                 [BRUCE, BRUCE, BRUCE]  \n",
       "2     [SHARON, SHARON, SHARON, SHARON, SHARON, SHARO...  \n",
       "3     [AMY, AMY, AMY, AMY, AMY, AMY, AMY, AMY, AMY, ...  \n",
       "4     [MCGRAW, MCGRAW, MCGRAW, MCGRAW, MCGRAW, MCGRA...  \n",
       "...                                                 ...  \n",
       "8744  [BORDER GUARD, BORDER GUARD, BORDER GUARD, BOR...  \n",
       "8745  [CARLOS, CARLOS, CARLOS, CARLOS, CARLOS, CARLO...  \n",
       "8746  [JACOB, JACOB, JACOB, JACOB, JACOB, JACOB, JAC...  \n",
       "8747  [KATE, KATE, KATE, KATE, KATE, KATE, KATE, KAT...  \n",
       "8748  [KELLY HOUGE, KELLY HOUGE, KELLY HOUGE, KELLY ...  \n",
       "\n",
       "[8749 rows x 6 columns]"
      ]
     },
     "execution_count": 62,
     "metadata": {},
     "output_type": "execute_result"
    }
   ],
   "source": [
    "grouped_df"
   ]
  },
  {
   "cell_type": "code",
   "execution_count": 63,
   "id": "27f9202b-979e-4f82-88ef-d8c4f795b2b6",
   "metadata": {},
   "outputs": [],
   "source": [
    "grouped_df['genres'] = grouped_df['genres'].apply(lambda x: x[1:-1].replace('\\'', '').replace('\"', '').split())"
   ]
  },
  {
   "cell_type": "code",
   "execution_count": 64,
   "id": "939960e4-f094-47ed-926e-1dc168164a74",
   "metadata": {},
   "outputs": [],
   "source": [
    "grouped_df.to_json('../data/dialogs.json')"
   ]
  },
  {
   "cell_type": "code",
   "execution_count": 65,
   "id": "7ec4c313-2588-475f-9004-1265da9ce68c",
   "metadata": {},
   "outputs": [],
   "source": [
    "grouped_df = pd.read_json('../data/dialogs.json')"
   ]
  },
  {
   "cell_type": "code",
   "execution_count": 4,
   "id": "acb94d95-91e0-4b92-b49d-2cf7d3eb675b",
   "metadata": {},
   "outputs": [
    {
     "name": "stderr",
     "output_type": "stream",
     "text": [
      "/home/qnbhd/anaconda3/envs/cleanenv/lib/python3.9/site-packages/tqdm/auto.py:21: TqdmWarning: IProgress not found. Please update jupyter and ipywidgets. See https://ipywidgets.readthedocs.io/en/stable/user_install.html\n",
      "  from .autonotebook import tqdm as notebook_tqdm\n"
     ]
    }
   ],
   "source": [
    "import torch\n",
    "from transformers import DistilBertTokenizer, DistilBertForSequenceClassification\n"
   ]
  },
  {
   "cell_type": "code",
   "execution_count": 5,
   "id": "4ad320ec-9c05-4ee1-a01c-e44801e29f84",
   "metadata": {},
   "outputs": [],
   "source": [
    "tokenizer = DistilBertTokenizer.from_pretrained(\"distilbert-base-uncased-finetuned-sst-2-english\")\n",
    "model = DistilBertForSequenceClassification.from_pretrained(\"distilbert-base-uncased-finetuned-sst-2-english\")"
   ]
  },
  {
   "cell_type": "code",
   "execution_count": 6,
   "id": "a04fbc0f-9b8b-46d1-be5a-f045b99851ef",
   "metadata": {},
   "outputs": [
    {
     "name": "stdout",
     "output_type": "stream",
     "text": [
      "tensor([[-4.3032,  4.6750],\n",
      "        [ 2.8683, -2.3304],\n",
      "        [ 2.1973, -1.8939]])\n"
     ]
    }
   ],
   "source": [
    "texts = [\n",
    "    \"I like you. I love you\",\n",
    "    \"Fuck you shit! Mother fuck\",\n",
    "    \"I fuck your ass\",\n",
    "]\n",
    "\n",
    "inputs = tokenizer(texts, return_tensors=\"pt\", padding=True, truncation=True)\n",
    "with torch.no_grad():\n",
    "    logits = model(**inputs).logits\n",
    "\n",
    "print(logits)"
   ]
  },
  {
   "cell_type": "code",
   "execution_count": 7,
   "id": "73a21583-4398-4eb9-a24b-76c7fe841c92",
   "metadata": {},
   "outputs": [],
   "source": [
    "scores = logits.detach().numpy()"
   ]
  },
  {
   "cell_type": "code",
   "execution_count": 8,
   "id": "5ee052a2-cd32-4145-bb0b-7383148b5a9a",
   "metadata": {},
   "outputs": [],
   "source": [
    "import pandas as pd\n",
    "import scipy.stats\n",
    "\n",
    "def ent(data):\n",
    "    \"\"\"Calculates entropy of the passed `pd.Series`\n",
    "    \"\"\"\n",
    "    p_data = data.value_counts()           # counts occurrence of each value\n",
    "    entropy = scipy.stats.entropy(p_data)  # get entropy from counts\n",
    "    return entropy"
   ]
  },
  {
   "cell_type": "code",
   "execution_count": 9,
   "id": "de1d21ef-bd07-445f-83e8-9090ce835347",
   "metadata": {},
   "outputs": [],
   "source": [
    "from scipy.special import softmax\n",
    "from scipy.stats import entropy\n",
    "import numpy as np"
   ]
  },
  {
   "cell_type": "code",
   "execution_count": 10,
   "id": "bb31f379-49b4-4942-b2a3-e10c9d0c69a8",
   "metadata": {},
   "outputs": [],
   "source": [
    "np.set_printoptions(suppress=True)"
   ]
  },
  {
   "cell_type": "code",
   "execution_count": 11,
   "id": "28f95d52-c20f-4697-ab1f-777fb46e3c54",
   "metadata": {},
   "outputs": [
    {
     "data": {
      "text/plain": [
       "array([0.0012584 , 0.03406714, 0.08385529], dtype=float32)"
      ]
     },
     "execution_count": 11,
     "metadata": {},
     "output_type": "execute_result"
    }
   ],
   "source": [
    "entropy(softmax(scores, axis=1), axis=1)"
   ]
  },
  {
   "cell_type": "code",
   "execution_count": 12,
   "id": "4626a296-c05d-465d-af51-925571355b70",
   "metadata": {},
   "outputs": [],
   "source": [
    "predictions = scores.argmax(axis=1)"
   ]
  },
  {
   "cell_type": "code",
   "execution_count": 13,
   "id": "22e6dcae-4d42-4126-97cf-005f9e577bfe",
   "metadata": {},
   "outputs": [
    {
     "data": {
      "text/plain": [
       "array([1, 0, 0])"
      ]
     },
     "execution_count": 13,
     "metadata": {},
     "output_type": "execute_result"
    }
   ],
   "source": [
    "predictions"
   ]
  },
  {
   "cell_type": "code",
   "execution_count": 14,
   "id": "a3a36069-c316-4812-91f9-e5ef17bb2564",
   "metadata": {},
   "outputs": [
    {
     "data": {
      "text/plain": [
       "['POSITIVE', 'NEGATIVE', 'NEGATIVE']"
      ]
     },
     "execution_count": 14,
     "metadata": {},
     "output_type": "execute_result"
    }
   ],
   "source": [
    "[model.config.id2label[idx] for idx in predictions]"
   ]
  },
  {
   "cell_type": "code",
   "execution_count": 15,
   "id": "7179ff18-5386-4afa-8f71-ff94999c4b3a",
   "metadata": {},
   "outputs": [
    {
     "data": {
      "text/plain": [
       "0.6931471805599453"
      ]
     },
     "execution_count": 15,
     "metadata": {},
     "output_type": "execute_result"
    }
   ],
   "source": [
    "entropy([0.5,0.5])"
   ]
  },
  {
   "cell_type": "code",
   "execution_count": 16,
   "id": "b37f3561-0e33-48e2-8add-b0c7b1864e42",
   "metadata": {},
   "outputs": [
    {
     "data": {
      "text/plain": [
       "0"
      ]
     },
     "execution_count": 16,
     "metadata": {},
     "output_type": "execute_result"
    }
   ],
   "source": [
    "np.argmax([0.5, 0.5])"
   ]
  },
  {
   "cell_type": "code",
   "execution_count": 17,
   "id": "9b00f1a1-e564-4e44-b57f-16c03a34ab9b",
   "metadata": {},
   "outputs": [],
   "source": [
    "t = [[{'label': 'anger', 'score': 0.004419783595949411},\n",
    "  {'label': 'disgust', 'score': 0.0016119900392368436},\n",
    "  {'label': 'fear', 'score': 0.0004138521908316761},\n",
    "  {'label': 'joy', 'score': 0.9771687984466553},\n",
    "  {'label': 'neutral', 'score': 0.005764586851000786},\n",
    "  {'label': 'sadness', 'score': 0.002092392183840275},\n",
    "  {'label': 'surprise', 'score': 0.008528684265911579}]]"
   ]
  },
  {
   "cell_type": "code",
   "execution_count": 41,
   "id": "1826b473-bc58-4e6b-99d2-af42405b643e",
   "metadata": {},
   "outputs": [],
   "source": [
    "w = {}\n",
    "\n",
    "for u in t[0]:\n",
    "    w[u['label']] = [u['score']]"
   ]
  },
  {
   "cell_type": "code",
   "execution_count": 42,
   "id": "31c95c69-4e5b-47f6-b3cd-34dab55ab032",
   "metadata": {},
   "outputs": [
    {
     "data": {
      "text/plain": [
       "{'anger': [0.004419783595949411],\n",
       " 'disgust': [0.0016119900392368436],\n",
       " 'fear': [0.0004138521908316761],\n",
       " 'joy': [0.9771687984466553],\n",
       " 'neutral': [0.005764586851000786],\n",
       " 'sadness': [0.002092392183840275],\n",
       " 'surprise': [0.008528684265911579]}"
      ]
     },
     "execution_count": 42,
     "metadata": {},
     "output_type": "execute_result"
    }
   ],
   "source": [
    "w"
   ]
  },
  {
   "cell_type": "code",
   "execution_count": 44,
   "id": "271cba7a-f84a-43ab-b6e4-e8fe4f8612bb",
   "metadata": {},
   "outputs": [
    {
     "data": {
      "text/html": [
       "<div>\n",
       "<style scoped>\n",
       "    .dataframe tbody tr th:only-of-type {\n",
       "        vertical-align: middle;\n",
       "    }\n",
       "\n",
       "    .dataframe tbody tr th {\n",
       "        vertical-align: top;\n",
       "    }\n",
       "\n",
       "    .dataframe thead th {\n",
       "        text-align: right;\n",
       "    }\n",
       "</style>\n",
       "<table border=\"1\" class=\"dataframe\">\n",
       "  <thead>\n",
       "    <tr style=\"text-align: right;\">\n",
       "      <th></th>\n",
       "      <th>anger</th>\n",
       "      <th>disgust</th>\n",
       "      <th>fear</th>\n",
       "      <th>joy</th>\n",
       "      <th>neutral</th>\n",
       "      <th>sadness</th>\n",
       "      <th>surprise</th>\n",
       "    </tr>\n",
       "  </thead>\n",
       "  <tbody>\n",
       "    <tr>\n",
       "      <th>0</th>\n",
       "      <td>0.00442</td>\n",
       "      <td>0.001612</td>\n",
       "      <td>0.000414</td>\n",
       "      <td>0.977169</td>\n",
       "      <td>0.005765</td>\n",
       "      <td>0.002092</td>\n",
       "      <td>0.008529</td>\n",
       "    </tr>\n",
       "  </tbody>\n",
       "</table>\n",
       "</div>"
      ],
      "text/plain": [
       "     anger   disgust      fear       joy   neutral   sadness  surprise\n",
       "0  0.00442  0.001612  0.000414  0.977169  0.005765  0.002092  0.008529"
      ]
     },
     "execution_count": 44,
     "metadata": {},
     "output_type": "execute_result"
    }
   ],
   "source": [
    "pd.DataFrame(w)"
   ]
  },
  {
   "cell_type": "code",
   "execution_count": 18,
   "id": "3db33184-fff0-47e7-a95a-b297d98c0d5a",
   "metadata": {},
   "outputs": [],
   "source": [
    "def find_max(scores):\n",
    "    max_score = 0\n",
    "    target_label = None\n",
    "\n",
    "    for row in scores:\n",
    "        if row['score'] > max_score:\n",
    "            max_score = row['score']\n",
    "            target_label = row['label']\n",
    "            \n",
    "    return target_label"
   ]
  },
  {
   "cell_type": "code",
   "execution_count": 53,
   "id": "7b1ee692-1d6b-40b6-82b9-7efc20290830",
   "metadata": {},
   "outputs": [],
   "source": [
    "dialogs_df = pd.read_json('../data/dialogs.json')"
   ]
  },
  {
   "cell_type": "code",
   "execution_count": 49,
   "id": "67fdef0f-5bcf-472f-828d-f3d5f410bbab",
   "metadata": {},
   "outputs": [],
   "source": [
    "dialogs_df['speakers'] = dialogs_df['speakers'].apply(lambda x: x[0])"
   ]
  },
  {
   "cell_type": "code",
   "execution_count": 54,
   "id": "456c23c4-b69f-4fca-a0a7-edfc4ecd2116",
   "metadata": {},
   "outputs": [
    {
     "data": {
      "text/html": [
       "<div>\n",
       "<style scoped>\n",
       "    .dataframe tbody tr th:only-of-type {\n",
       "        vertical-align: middle;\n",
       "    }\n",
       "\n",
       "    .dataframe tbody tr th {\n",
       "        vertical-align: top;\n",
       "    }\n",
       "\n",
       "    .dataframe thead th {\n",
       "        text-align: right;\n",
       "    }\n",
       "</style>\n",
       "<table border=\"1\" class=\"dataframe\">\n",
       "  <thead>\n",
       "    <tr style=\"text-align: right;\">\n",
       "      <th></th>\n",
       "      <th>characterID</th>\n",
       "      <th>movieID</th>\n",
       "      <th>movie_title</th>\n",
       "      <th>genres</th>\n",
       "      <th>dialogue</th>\n",
       "      <th>speakers</th>\n",
       "    </tr>\n",
       "  </thead>\n",
       "  <tbody>\n",
       "    <tr>\n",
       "      <th>0</th>\n",
       "      <td>u0</td>\n",
       "      <td>m0</td>\n",
       "      <td>10 things i hate about you</td>\n",
       "      <td>[comedy, romance]</td>\n",
       "      <td>[They do not!, I hope so., Let's go., Okay -- ...</td>\n",
       "      <td>[BIANCA, BIANCA, BIANCA, BIANCA, BIANCA, BIANC...</td>\n",
       "    </tr>\n",
       "    <tr>\n",
       "      <th>1</th>\n",
       "      <td>u1</td>\n",
       "      <td>m0</td>\n",
       "      <td>10 things i hate about you</td>\n",
       "      <td>[comedy, romance]</td>\n",
       "      <td>[Just sent 'em through., Never, Didn't have yo...</td>\n",
       "      <td>[BRUCE, BRUCE, BRUCE]</td>\n",
       "    </tr>\n",
       "    <tr>\n",
       "      <th>2</th>\n",
       "      <td>u10</td>\n",
       "      <td>m0</td>\n",
       "      <td>10 things i hate about you</td>\n",
       "      <td>[comedy, romance]</td>\n",
       "      <td>[Absolutely not., Your daughters went to the p...</td>\n",
       "      <td>[SHARON, SHARON, SHARON, SHARON, SHARON, SHARO...</td>\n",
       "    </tr>\n",
       "    <tr>\n",
       "      <th>3</th>\n",
       "      <td>u100</td>\n",
       "      <td>m6</td>\n",
       "      <td>8mm</td>\n",
       "      <td>[crime, mystery, thriller]</td>\n",
       "      <td>[She died in her sleep three days ago.  It was...</td>\n",
       "      <td>[AMY, AMY, AMY, AMY, AMY, AMY, AMY, AMY, AMY, ...</td>\n",
       "    </tr>\n",
       "    <tr>\n",
       "      <th>4</th>\n",
       "      <td>u1000</td>\n",
       "      <td>m65</td>\n",
       "      <td>from dusk till dawn</td>\n",
       "      <td>[action, crime, horror, thriller]</td>\n",
       "      <td>[Yeah and I'm gonna be right back at it tomorr...</td>\n",
       "      <td>[MCGRAW, MCGRAW, MCGRAW, MCGRAW, MCGRAW, MCGRA...</td>\n",
       "    </tr>\n",
       "    <tr>\n",
       "      <th>...</th>\n",
       "      <td>...</td>\n",
       "      <td>...</td>\n",
       "      <td>...</td>\n",
       "      <td>...</td>\n",
       "      <td>...</td>\n",
       "      <td>...</td>\n",
       "    </tr>\n",
       "    <tr>\n",
       "      <th>8744</th>\n",
       "      <td>u995</td>\n",
       "      <td>m65</td>\n",
       "      <td>from dusk till dawn</td>\n",
       "      <td>[action, crime, horror, thriller]</td>\n",
       "      <td>[Open the door. I'm coming aboard., You said i...</td>\n",
       "      <td>[BORDER GUARD, BORDER GUARD, BORDER GUARD, BOR...</td>\n",
       "    </tr>\n",
       "    <tr>\n",
       "      <th>8745</th>\n",
       "      <td>u996</td>\n",
       "      <td>m65</td>\n",
       "      <td>from dusk till dawn</td>\n",
       "      <td>[action, crime, horror, thriller]</td>\n",
       "      <td>[Vamanos!, Yeah follow us., It's hardly been u...</td>\n",
       "      <td>[CARLOS, CARLOS, CARLOS, CARLOS, CARLOS, CARLO...</td>\n",
       "    </tr>\n",
       "    <tr>\n",
       "      <th>8746</th>\n",
       "      <td>u997</td>\n",
       "      <td>m65</td>\n",
       "      <td>from dusk till dawn</td>\n",
       "      <td>[action, crime, horror, thriller]</td>\n",
       "      <td>[I meant me my son and my daughter., Oh that's...</td>\n",
       "      <td>[JACOB, JACOB, JACOB, JACOB, JACOB, JACOB, JAC...</td>\n",
       "    </tr>\n",
       "    <tr>\n",
       "      <th>8747</th>\n",
       "      <td>u998</td>\n",
       "      <td>m65</td>\n",
       "      <td>from dusk till dawn</td>\n",
       "      <td>[action, crime, horror, thriller]</td>\n",
       "      <td>[Everybody goes home!, I'm going for 'em!, I s...</td>\n",
       "      <td>[KATE, KATE, KATE, KATE, KATE, KATE, KATE, KAT...</td>\n",
       "    </tr>\n",
       "    <tr>\n",
       "      <th>8748</th>\n",
       "      <td>u999</td>\n",
       "      <td>m65</td>\n",
       "      <td>from dusk till dawn</td>\n",
       "      <td>[action, crime, horror, thriller]</td>\n",
       "      <td>[Is it safe to assume that because the death c...</td>\n",
       "      <td>[KELLY HOUGE, KELLY HOUGE, KELLY HOUGE, KELLY ...</td>\n",
       "    </tr>\n",
       "  </tbody>\n",
       "</table>\n",
       "<p>8749 rows × 6 columns</p>\n",
       "</div>"
      ],
      "text/plain": [
       "     characterID movieID                 movie_title  \\\n",
       "0             u0      m0  10 things i hate about you   \n",
       "1             u1      m0  10 things i hate about you   \n",
       "2            u10      m0  10 things i hate about you   \n",
       "3           u100      m6                         8mm   \n",
       "4          u1000     m65         from dusk till dawn   \n",
       "...          ...     ...                         ...   \n",
       "8744        u995     m65         from dusk till dawn   \n",
       "8745        u996     m65         from dusk till dawn   \n",
       "8746        u997     m65         from dusk till dawn   \n",
       "8747        u998     m65         from dusk till dawn   \n",
       "8748        u999     m65         from dusk till dawn   \n",
       "\n",
       "                                 genres  \\\n",
       "0                     [comedy, romance]   \n",
       "1                     [comedy, romance]   \n",
       "2                     [comedy, romance]   \n",
       "3            [crime, mystery, thriller]   \n",
       "4     [action, crime, horror, thriller]   \n",
       "...                                 ...   \n",
       "8744  [action, crime, horror, thriller]   \n",
       "8745  [action, crime, horror, thriller]   \n",
       "8746  [action, crime, horror, thriller]   \n",
       "8747  [action, crime, horror, thriller]   \n",
       "8748  [action, crime, horror, thriller]   \n",
       "\n",
       "                                               dialogue  \\\n",
       "0     [They do not!, I hope so., Let's go., Okay -- ...   \n",
       "1     [Just sent 'em through., Never, Didn't have yo...   \n",
       "2     [Absolutely not., Your daughters went to the p...   \n",
       "3     [She died in her sleep three days ago.  It was...   \n",
       "4     [Yeah and I'm gonna be right back at it tomorr...   \n",
       "...                                                 ...   \n",
       "8744  [Open the door. I'm coming aboard., You said i...   \n",
       "8745  [Vamanos!, Yeah follow us., It's hardly been u...   \n",
       "8746  [I meant me my son and my daughter., Oh that's...   \n",
       "8747  [Everybody goes home!, I'm going for 'em!, I s...   \n",
       "8748  [Is it safe to assume that because the death c...   \n",
       "\n",
       "                                               speakers  \n",
       "0     [BIANCA, BIANCA, BIANCA, BIANCA, BIANCA, BIANC...  \n",
       "1                                 [BRUCE, BRUCE, BRUCE]  \n",
       "2     [SHARON, SHARON, SHARON, SHARON, SHARON, SHARO...  \n",
       "3     [AMY, AMY, AMY, AMY, AMY, AMY, AMY, AMY, AMY, ...  \n",
       "4     [MCGRAW, MCGRAW, MCGRAW, MCGRAW, MCGRAW, MCGRA...  \n",
       "...                                                 ...  \n",
       "8744  [BORDER GUARD, BORDER GUARD, BORDER GUARD, BOR...  \n",
       "8745  [CARLOS, CARLOS, CARLOS, CARLOS, CARLOS, CARLO...  \n",
       "8746  [JACOB, JACOB, JACOB, JACOB, JACOB, JACOB, JAC...  \n",
       "8747  [KATE, KATE, KATE, KATE, KATE, KATE, KATE, KAT...  \n",
       "8748  [KELLY HOUGE, KELLY HOUGE, KELLY HOUGE, KELLY ...  \n",
       "\n",
       "[8749 rows x 6 columns]"
      ]
     },
     "execution_count": 54,
     "metadata": {},
     "output_type": "execute_result"
    }
   ],
   "source": [
    "dialogs_df"
   ]
  },
  {
   "cell_type": "code",
   "execution_count": 55,
   "id": "b3349cda-056c-42f1-8d78-4f472a3febb9",
   "metadata": {},
   "outputs": [],
   "source": [
    "dialogs_df[:4000].to_json('reduced.json')"
   ]
  },
  {
   "cell_type": "code",
   "execution_count": null,
   "id": "edef6496-1eb9-49d4-b006-c8c7ef0646ca",
   "metadata": {},
   "outputs": [],
   "source": [
    "dialogs_df['speakers']"
   ]
  },
  {
   "cell_type": "code",
   "execution_count": 19,
   "id": "6e23ef03-1959-401d-8107-bfbc153fe1b2",
   "metadata": {},
   "outputs": [
    {
     "data": {
      "text/plain": [
       "'joy'"
      ]
     },
     "execution_count": 19,
     "metadata": {},
     "output_type": "execute_result"
    }
   ],
   "source": [
    "find_max(t[0])"
   ]
  },
  {
   "cell_type": "code",
   "execution_count": 20,
   "id": "fb1703d3-519f-4902-a499-d119062315d1",
   "metadata": {},
   "outputs": [
    {
     "name": "stderr",
     "output_type": "stream",
     "text": [
      "Xformers is not installed correctly. If you want to use memorry_efficient_attention to accelerate training use the following command to install Xformers\n",
      "pip install xformers.\n"
     ]
    }
   ],
   "source": [
    "import pandas as pd\n",
    "from transformers import pipeline\n",
    "\n",
    "# Load the dataset containing dialogs\n",
    "dialogs_df = pd.read_json('../data/dialogs.json')\n",
    "\n",
    "# Select a subset of dialogs\n",
    "dialogs_df = dialogs_df.sample(n=1000, random_state=42)\n",
    "\n",
    "\n",
    "def find_max(scores):\n",
    "    max_score = 0\n",
    "    target_label = None\n",
    "\n",
    "    for row in scores:\n",
    "        if row['score'] > max_score:\n",
    "            max_score = row['score']\n",
    "            target_label = row['label']\n",
    "\n",
    "    return target_label\n",
    "\n",
    "\n",
    "# Load the emotion classifier model\n",
    "classifier = pipeline('text-classification',\n",
    "                      model='j-hartmann/emotion-english-distilroberta-base',\n",
    "                      tokenizer='j-hartmann/emotion-english-distilroberta-base')\n"
   ]
  },
  {
   "cell_type": "code",
   "execution_count": 21,
   "id": "456f7da6-163d-4227-a295-b30e0100229b",
   "metadata": {},
   "outputs": [],
   "source": [
    "dialogs_df['dialogue'] = dialogs_df['dialogue'].map(lambda x: [y for y in x if isinstance(y, str)])"
   ]
  },
  {
   "cell_type": "code",
   "execution_count": 22,
   "id": "01991396-20ab-4045-888e-6346fffe9cbc",
   "metadata": {},
   "outputs": [],
   "source": [
    "dialogs_df['dialogue'] = dialogs_df['dialogue'].apply(lambda x: ' '.join(x))"
   ]
  },
  {
   "cell_type": "code",
   "execution_count": 23,
   "id": "e293b703-e422-4bd3-829d-abf78d33449d",
   "metadata": {},
   "outputs": [],
   "source": [
    "dialogs_df['dialogue'] = dialogs_df['dialogue'].apply(lambda x: x[:512])"
   ]
  },
  {
   "cell_type": "code",
   "execution_count": 24,
   "id": "72317d86-e258-4acb-88d2-4f727a2f7a9b",
   "metadata": {},
   "outputs": [],
   "source": [
    "results = dialogs_df['dialogue'].apply(lambda x: find_max(classifier(x)))"
   ]
  },
  {
   "cell_type": "code",
   "execution_count": 27,
   "id": "f8294d65-30bf-4150-b931-607f9571198c",
   "metadata": {},
   "outputs": [],
   "source": [
    "dialogs_df['emotion'] = results"
   ]
  },
  {
   "cell_type": "code",
   "execution_count": 28,
   "id": "12820ea6-5c1c-4503-b8eb-b4b5be4e6456",
   "metadata": {},
   "outputs": [
    {
     "data": {
      "text/html": [
       "<div>\n",
       "<style scoped>\n",
       "    .dataframe tbody tr th:only-of-type {\n",
       "        vertical-align: middle;\n",
       "    }\n",
       "\n",
       "    .dataframe tbody tr th {\n",
       "        vertical-align: top;\n",
       "    }\n",
       "\n",
       "    .dataframe thead th {\n",
       "        text-align: right;\n",
       "    }\n",
       "</style>\n",
       "<table border=\"1\" class=\"dataframe\">\n",
       "  <thead>\n",
       "    <tr style=\"text-align: right;\">\n",
       "      <th></th>\n",
       "      <th>characterID</th>\n",
       "      <th>movieID</th>\n",
       "      <th>movie_title</th>\n",
       "      <th>genres</th>\n",
       "      <th>dialogue</th>\n",
       "      <th>speakers</th>\n",
       "      <th>emotion</th>\n",
       "    </tr>\n",
       "  </thead>\n",
       "  <tbody>\n",
       "    <tr>\n",
       "      <th>3910</th>\n",
       "      <td>u4614</td>\n",
       "      <td>m305</td>\n",
       "      <td>cool hand luke</td>\n",
       "      <td>[crime, drama]</td>\n",
       "      <td>But I made this arrangement -- I don't think y...</td>\n",
       "      <td>[ALIBI, ALIBI, ALIBI, ALIBI, ALIBI, ALIBI, ALI...</td>\n",
       "      <td>neutral</td>\n",
       "    </tr>\n",
       "    <tr>\n",
       "      <th>2777</th>\n",
       "      <td>u3592</td>\n",
       "      <td>m237</td>\n",
       "      <td>alien vs. predator</td>\n",
       "      <td>[action, adventure, sci-fi]</td>\n",
       "      <td>Move it baby or they're gonna be chewin' on my...</td>\n",
       "      <td>[GUTTIEREZ, GUTTIEREZ, GUTTIEREZ, GUTTIEREZ, G...</td>\n",
       "      <td>neutral</td>\n",
       "    </tr>\n",
       "    <tr>\n",
       "      <th>3355</th>\n",
       "      <td>u4113</td>\n",
       "      <td>m275</td>\n",
       "      <td>bloodmoon</td>\n",
       "      <td>[action, thriller]</td>\n",
       "      <td>We're going to leave that up to Detective Will...</td>\n",
       "      <td>[F.B.I. MAN, F.B.I. MAN, F.B.I. MAN]</td>\n",
       "      <td>neutral</td>\n",
       "    </tr>\n",
       "    <tr>\n",
       "      <th>3055</th>\n",
       "      <td>u3844</td>\n",
       "      <td>m254</td>\n",
       "      <td>badlands</td>\n",
       "      <td>[crime, drama, romance, thriller]</td>\n",
       "      <td>Yes. Fine. Yes. Just thinking. Stay as long as...</td>\n",
       "      <td>[RICH MAN, RICH MAN, RICH MAN, RICH MAN, RICH ...</td>\n",
       "      <td>neutral</td>\n",
       "    </tr>\n",
       "    <tr>\n",
       "      <th>6399</th>\n",
       "      <td>u696</td>\n",
       "      <td>m44</td>\n",
       "      <td>the cider house rules</td>\n",
       "      <td>[drama, romance]</td>\n",
       "      <td>You mean *swimmin'*. I ain't goin' in that vat...</td>\n",
       "      <td>[JACK, JACK, JACK, JACK, JACK]</td>\n",
       "      <td>disgust</td>\n",
       "    </tr>\n",
       "    <tr>\n",
       "      <th>...</th>\n",
       "      <td>...</td>\n",
       "      <td>...</td>\n",
       "      <td>...</td>\n",
       "      <td>...</td>\n",
       "      <td>...</td>\n",
       "      <td>...</td>\n",
       "      <td>...</td>\n",
       "    </tr>\n",
       "    <tr>\n",
       "      <th>3059</th>\n",
       "      <td>u3848</td>\n",
       "      <td>m255</td>\n",
       "      <td>the adventures of buckaroo banzai across the 8...</td>\n",
       "      <td>[adventure, romance, comedy, sci-fi]</td>\n",
       "      <td>Then that's it! You mean the guy from the old ...</td>\n",
       "      <td>[BILLY, BILLY, BILLY, BILLY, BILLY]</td>\n",
       "      <td>surprise</td>\n",
       "    </tr>\n",
       "    <tr>\n",
       "      <th>4961</th>\n",
       "      <td>u5649</td>\n",
       "      <td>m374</td>\n",
       "      <td>the grapes of wrath</td>\n",
       "      <td>[drama]</td>\n",
       "      <td>Well there's plenty of work for you about fort...</td>\n",
       "      <td>[SPENCER, SPENCER, SPENCER, SPENCER]</td>\n",
       "      <td>neutral</td>\n",
       "    </tr>\n",
       "    <tr>\n",
       "      <th>1659</th>\n",
       "      <td>u2586</td>\n",
       "      <td>m168</td>\n",
       "      <td>rebel without a cause</td>\n",
       "      <td>[drama, romance]</td>\n",
       "      <td>Good luck Buzz. Feel okay? Buzzie--we better g...</td>\n",
       "      <td>[JUDY, JUDY, JUDY, JUDY, JUDY, JUDY, JUDY, JUD...</td>\n",
       "      <td>joy</td>\n",
       "    </tr>\n",
       "    <tr>\n",
       "      <th>177</th>\n",
       "      <td>u1160</td>\n",
       "      <td>m76</td>\n",
       "      <td>gladiator</td>\n",
       "      <td>[action, adventure, drama]</td>\n",
       "      <td>Is this Rome?  Are we just going to be execute...</td>\n",
       "      <td>[JUBA, JUBA, JUBA, JUBA]</td>\n",
       "      <td>fear</td>\n",
       "    </tr>\n",
       "    <tr>\n",
       "      <th>7776</th>\n",
       "      <td>u8246</td>\n",
       "      <td>m560</td>\n",
       "      <td>the believer</td>\n",
       "      <td>[drama]</td>\n",
       "      <td>So that's what? Nineteen thirty minutes...what...</td>\n",
       "      <td>[KYLE, KYLE, KYLE, KYLE, KYLE, KYLE, KYLE, KYL...</td>\n",
       "      <td>surprise</td>\n",
       "    </tr>\n",
       "  </tbody>\n",
       "</table>\n",
       "<p>1000 rows × 7 columns</p>\n",
       "</div>"
      ],
      "text/plain": [
       "     characterID movieID                                        movie_title  \\\n",
       "3910       u4614    m305                                     cool hand luke   \n",
       "2777       u3592    m237                                 alien vs. predator   \n",
       "3355       u4113    m275                                          bloodmoon   \n",
       "3055       u3844    m254                                           badlands   \n",
       "6399        u696     m44                              the cider house rules   \n",
       "...          ...     ...                                                ...   \n",
       "3059       u3848    m255  the adventures of buckaroo banzai across the 8...   \n",
       "4961       u5649    m374                                the grapes of wrath   \n",
       "1659       u2586    m168                              rebel without a cause   \n",
       "177        u1160     m76                                          gladiator   \n",
       "7776       u8246    m560                                       the believer   \n",
       "\n",
       "                                    genres  \\\n",
       "3910                        [crime, drama]   \n",
       "2777           [action, adventure, sci-fi]   \n",
       "3355                    [action, thriller]   \n",
       "3055     [crime, drama, romance, thriller]   \n",
       "6399                      [drama, romance]   \n",
       "...                                    ...   \n",
       "3059  [adventure, romance, comedy, sci-fi]   \n",
       "4961                               [drama]   \n",
       "1659                      [drama, romance]   \n",
       "177             [action, adventure, drama]   \n",
       "7776                               [drama]   \n",
       "\n",
       "                                               dialogue  \\\n",
       "3910  But I made this arrangement -- I don't think y...   \n",
       "2777  Move it baby or they're gonna be chewin' on my...   \n",
       "3355  We're going to leave that up to Detective Will...   \n",
       "3055  Yes. Fine. Yes. Just thinking. Stay as long as...   \n",
       "6399  You mean *swimmin'*. I ain't goin' in that vat...   \n",
       "...                                                 ...   \n",
       "3059  Then that's it! You mean the guy from the old ...   \n",
       "4961  Well there's plenty of work for you about fort...   \n",
       "1659  Good luck Buzz. Feel okay? Buzzie--we better g...   \n",
       "177   Is this Rome?  Are we just going to be execute...   \n",
       "7776  So that's what? Nineteen thirty minutes...what...   \n",
       "\n",
       "                                               speakers   emotion  \n",
       "3910  [ALIBI, ALIBI, ALIBI, ALIBI, ALIBI, ALIBI, ALI...   neutral  \n",
       "2777  [GUTTIEREZ, GUTTIEREZ, GUTTIEREZ, GUTTIEREZ, G...   neutral  \n",
       "3355               [F.B.I. MAN, F.B.I. MAN, F.B.I. MAN]   neutral  \n",
       "3055  [RICH MAN, RICH MAN, RICH MAN, RICH MAN, RICH ...   neutral  \n",
       "6399                     [JACK, JACK, JACK, JACK, JACK]   disgust  \n",
       "...                                                 ...       ...  \n",
       "3059                [BILLY, BILLY, BILLY, BILLY, BILLY]  surprise  \n",
       "4961               [SPENCER, SPENCER, SPENCER, SPENCER]   neutral  \n",
       "1659  [JUDY, JUDY, JUDY, JUDY, JUDY, JUDY, JUDY, JUD...       joy  \n",
       "177                            [JUBA, JUBA, JUBA, JUBA]      fear  \n",
       "7776  [KYLE, KYLE, KYLE, KYLE, KYLE, KYLE, KYLE, KYL...  surprise  \n",
       "\n",
       "[1000 rows x 7 columns]"
      ]
     },
     "execution_count": 28,
     "metadata": {},
     "output_type": "execute_result"
    }
   ],
   "source": [
    "dialogs_df"
   ]
  },
  {
   "cell_type": "code",
   "execution_count": 46,
   "id": "ac1d1951-caa5-4352-8a81-8bf136b01f60",
   "metadata": {},
   "outputs": [
    {
     "data": {
      "text/html": [
       "<div>\n",
       "<style scoped>\n",
       "    .dataframe tbody tr th:only-of-type {\n",
       "        vertical-align: middle;\n",
       "    }\n",
       "\n",
       "    .dataframe tbody tr th {\n",
       "        vertical-align: top;\n",
       "    }\n",
       "\n",
       "    .dataframe thead th {\n",
       "        text-align: right;\n",
       "    }\n",
       "</style>\n",
       "<table border=\"1\" class=\"dataframe\">\n",
       "  <thead>\n",
       "    <tr style=\"text-align: right;\">\n",
       "      <th></th>\n",
       "      <th>characterID</th>\n",
       "      <th>movieID</th>\n",
       "      <th>movie_title</th>\n",
       "      <th>genres</th>\n",
       "      <th>dialogue</th>\n",
       "      <th>speakers</th>\n",
       "      <th>emotion</th>\n",
       "    </tr>\n",
       "  </thead>\n",
       "  <tbody>\n",
       "    <tr>\n",
       "      <th>3355</th>\n",
       "      <td>u4113</td>\n",
       "      <td>m275</td>\n",
       "      <td>bloodmoon</td>\n",
       "      <td>[action, thriller]</td>\n",
       "      <td>We're going to leave that up to Detective Will...</td>\n",
       "      <td>[F.B.I. MAN, F.B.I. MAN, F.B.I. MAN]</td>\n",
       "      <td>neutral</td>\n",
       "    </tr>\n",
       "    <tr>\n",
       "      <th>3352</th>\n",
       "      <td>u4110</td>\n",
       "      <td>m275</td>\n",
       "      <td>bloodmoon</td>\n",
       "      <td>[action, thriller]</td>\n",
       "      <td>See you Tuesday Frank. Frank I have something ...</td>\n",
       "      <td>[BEN, BEN, BEN, BEN, BEN, BEN, BEN, BEN, BEN]</td>\n",
       "      <td>neutral</td>\n",
       "    </tr>\n",
       "    <tr>\n",
       "      <th>3365</th>\n",
       "      <td>u4122</td>\n",
       "      <td>m275</td>\n",
       "      <td>bloodmoon</td>\n",
       "      <td>[action, thriller]</td>\n",
       "      <td>Okay I'm goin'. You'll see. I'll get you. He's...</td>\n",
       "      <td>[YELLOW MAN, YELLOW MAN, YELLOW MAN, YELLOW MA...</td>\n",
       "      <td>disgust</td>\n",
       "    </tr>\n",
       "  </tbody>\n",
       "</table>\n",
       "</div>"
      ],
      "text/plain": [
       "     characterID movieID movie_title              genres  \\\n",
       "3355       u4113    m275   bloodmoon  [action, thriller]   \n",
       "3352       u4110    m275   bloodmoon  [action, thriller]   \n",
       "3365       u4122    m275   bloodmoon  [action, thriller]   \n",
       "\n",
       "                                               dialogue  \\\n",
       "3355  We're going to leave that up to Detective Will...   \n",
       "3352  See you Tuesday Frank. Frank I have something ...   \n",
       "3365  Okay I'm goin'. You'll see. I'll get you. He's...   \n",
       "\n",
       "                                               speakers  emotion  \n",
       "3355               [F.B.I. MAN, F.B.I. MAN, F.B.I. MAN]  neutral  \n",
       "3352      [BEN, BEN, BEN, BEN, BEN, BEN, BEN, BEN, BEN]  neutral  \n",
       "3365  [YELLOW MAN, YELLOW MAN, YELLOW MAN, YELLOW MA...  disgust  "
      ]
     },
     "execution_count": 46,
     "metadata": {},
     "output_type": "execute_result"
    }
   ],
   "source": [
    "dialogs_df[dialogs_df['movie_title'] == 'bloodmoon']"
   ]
  },
  {
   "cell_type": "code",
   "execution_count": 29,
   "id": "ed136b84-4766-4a1f-b456-28bab35df52d",
   "metadata": {},
   "outputs": [],
   "source": [
    "genres = list(set(y for x in dialogs_df['genres'].tolist() for y in x))"
   ]
  },
  {
   "cell_type": "code",
   "execution_count": 30,
   "id": "bb4a49d7-2be3-4c68-8bb9-a17935d959f2",
   "metadata": {},
   "outputs": [
    {
     "name": "stderr",
     "output_type": "stream",
     "text": [
      "/home/qnbhd/anaconda3/envs/cleanenv/lib/python3.9/site-packages/gradio/inputs.py:151: UserWarning: Usage of gradio.inputs is deprecated, and will not be supported in the future, please import your component from gradio.components\n",
      "  warnings.warn(\n",
      "/home/qnbhd/anaconda3/envs/cleanenv/lib/python3.9/site-packages/gradio/inputs.py:154: UserWarning: `optional` parameter is deprecated, and it has no effect\n",
      "  super().__init__(\n",
      "/home/qnbhd/anaconda3/envs/cleanenv/lib/python3.9/site-packages/gradio/outputs.py:22: UserWarning: Usage of gradio.outputs is deprecated, and will not be supported in the future, please import your components from gradio.components\n",
      "  warnings.warn(\n"
     ]
    },
    {
     "name": "stdout",
     "output_type": "stream",
     "text": [
      "Running on local URL:  http://127.0.0.1:7860\n",
      "\n",
      "To create a public link, set `share=True` in `launch()`.\n"
     ]
    },
    {
     "data": {
      "text/html": [
       "<div><iframe src=\"http://127.0.0.1:7860/\" width=\"100%\" height=\"500\" allow=\"autoplay; camera; microphone; clipboard-read; clipboard-write;\" frameborder=\"0\" allowfullscreen></iframe></div>"
      ],
      "text/plain": [
       "<IPython.core.display.HTML object>"
      ]
     },
     "metadata": {},
     "output_type": "display_data"
    },
    {
     "data": {
      "text/plain": []
     },
     "execution_count": 30,
     "metadata": {},
     "output_type": "execute_result"
    }
   ],
   "source": [
    "import gradio as gr\n",
    "\n",
    "# Function to calculate emotion statistics based on genre\n",
    "def calculate_emotion_statistics(genres):\n",
    "    # Filter the subset dialogs based on selected genre(s)\n",
    "    filtered_dialogs_df = dialogs_df[dialogs_df['genres'].map(lambda x: set(x) == set(genres))]\n",
    "\n",
    "    # Calculate emotion statistics\n",
    "    emotion_stats = filtered_dialogs_df['emotion'].value_counts().to_dict()\n",
    "\n",
    "    return emotion_stats\n",
    "\n",
    "# Interface using Gradio\n",
    "iface = gr.Interface(\n",
    "    fn=calculate_emotion_statistics,\n",
    "    inputs=gr.inputs.CheckboxGroup(genres),\n",
    "    outputs=gr.outputs.Textbox()\n",
    ")\n",
    "\n",
    "# Run the interface\n",
    "iface.launch()"
   ]
  },
  {
   "cell_type": "code",
   "execution_count": 32,
   "id": "ed7a1143-4ace-4eee-a6d4-bc50c457d012",
   "metadata": {},
   "outputs": [],
   "source": [
    "dialogs_df.to_json('labeled-emotions.json')"
   ]
  },
  {
   "cell_type": "code",
   "execution_count": 143,
   "id": "260e7add-f75c-41f4-8468-6423046766b2",
   "metadata": {},
   "outputs": [
    {
     "data": {
      "text/plain": [
       "3910     True\n",
       "2777    False\n",
       "3355    False\n",
       "3055    False\n",
       "6399    False\n",
       "5317    False\n",
       "7110    False\n",
       "1385    False\n",
       "4067    False\n",
       "6481    False\n",
       "Name: genres, dtype: bool"
      ]
     },
     "execution_count": 143,
     "metadata": {},
     "output_type": "execute_result"
    }
   ],
   "source": []
  },
  {
   "cell_type": "code",
   "execution_count": null,
   "id": "0d49ada1-42a7-4611-89dd-5a11a7f38331",
   "metadata": {},
   "outputs": [],
   "source": []
  }
 ],
 "metadata": {
  "kernelspec": {
   "display_name": "Python 3 (ipykernel)",
   "language": "python",
   "name": "python3"
  },
  "language_info": {
   "codemirror_mode": {
    "name": "ipython",
    "version": 3
   },
   "file_extension": ".py",
   "mimetype": "text/x-python",
   "name": "python",
   "nbconvert_exporter": "python",
   "pygments_lexer": "ipython3",
   "version": "3.9.16"
  }
 },
 "nbformat": 4,
 "nbformat_minor": 5
}
